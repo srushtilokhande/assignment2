{
  "nbformat": 4,
  "nbformat_minor": 0,
  "metadata": {
    "colab": {
      "provenance": []
    },
    "kernelspec": {
      "name": "python3",
      "display_name": "Python 3"
    },
    "language_info": {
      "name": "python"
    }
  },
  "cells": [
    {
      "cell_type": "markdown",
      "source": [
        "**Que 1 Discuss string slicing and provide examples.**\n",
        "\n",
        "String slicing is a way to extract parts of a string (substrings) in Python. It allows you to specify a range of characters to extract by providing a start and end index.\n",
        "where:\n",
        "\n",
        "start: The index at which the slice begins (inclusive).\n",
        "\n",
        "end: The index at which the slice ends (exclusive).\n",
        "\n",
        "step: The interval between indices (optional).\n",
        "  \n",
        "  for eg."
      ],
      "metadata": {
        "id": "bbUXJ-J8I-dr"
      }
    },
    {
      "cell_type": "code",
      "source": [
        "#basic slicing\n",
        "s = \"hello srushti\"\n",
        "print(s[0:5])\n"
      ],
      "metadata": {
        "colab": {
          "base_uri": "https://localhost:8080/"
        },
        "id": "a18t2L1MM5fW",
        "outputId": "a52078a7-d3cc-4f95-9439-eb0bf899510e"
      },
      "execution_count": null,
      "outputs": [
        {
          "output_type": "stream",
          "name": "stdout",
          "text": [
            "hello\n"
          ]
        }
      ]
    },
    {
      "cell_type": "code",
      "source": [
        "#negative slicing\n",
        "s = \"Hello, srushti\"\n",
        "print(s[-7:])\n"
      ],
      "metadata": {
        "colab": {
          "base_uri": "https://localhost:8080/"
        },
        "id": "T5wuVNCDN_Uw",
        "outputId": "08518af9-7c3e-4dd9-cca1-3aa53f34c7cc"
      },
      "execution_count": null,
      "outputs": [
        {
          "output_type": "stream",
          "name": "stdout",
          "text": [
            "srushti\n"
          ]
        }
      ]
    },
    {
      "cell_type": "code",
      "source": [
        "#reversing a string\n",
        "s = \"Hello, srushti\"\n",
        "print(s[::-1])\n",
        "\n"
      ],
      "metadata": {
        "colab": {
          "base_uri": "https://localhost:8080/"
        },
        "id": "_XgB0uTCOrtp",
        "outputId": "280127e1-3bb4-4e0e-e001-e34d5756b280"
      },
      "execution_count": null,
      "outputs": [
        {
          "output_type": "stream",
          "name": "stdout",
          "text": [
            "ithsurs ,olleH\n"
          ]
        }
      ]
    },
    {
      "cell_type": "markdown",
      "source": [
        "**Que 2 Explain the key features of lists in Python.**\n",
        "\n",
        "A list in Python is a versatile and widely used data structure that allows you to store collections of items. Lists can hold different data types and have many useful properties and methods.\n",
        "\n",
        "1. Ordered list:Lists maintain the order of items. The position of elements is fixed and can be accessed using an index.\n",
        "\n",
        "> Add blockquote\n",
        "\n",
        "\n",
        "\n",
        "2. Mutable:\n",
        "Lists are mutable, meaning you can modify their contents after creation (e.g., add, remove, or change elements).\n",
        "\n",
        "3.Allows Duplicate Elements:\n",
        "Lists can contain duplicate values, unlike sets which require uniqueness.\n",
        "\n",
        "4.Dynamic Size\n",
        "Lists can grow and shrink dynamically as items are added or removed. There’s no need to define a fixed size when creating a list.\n",
        "\n",
        "\n",
        "\n"
      ],
      "metadata": {
        "id": "nJycn2P0PP_P"
      }
    },
    {
      "cell_type": "code",
      "source": [
        "#ordered list\n",
        "city = [\"wardha\", \"nagpur\", \"pune\"]\n",
        "print(city[1])\n"
      ],
      "metadata": {
        "colab": {
          "base_uri": "https://localhost:8080/"
        },
        "id": "C-j1pkKMTMj4",
        "outputId": "91eb519f-4117-4ba8-c132-1df2127478e0"
      },
      "execution_count": 7,
      "outputs": [
        {
          "output_type": "stream",
          "name": "stdout",
          "text": [
            "nagpur\n"
          ]
        }
      ]
    },
    {
      "cell_type": "code",
      "source": [
        "#mutable\n",
        "city = [\"wardha\", \"nagpur\", \"pune\"]\n",
        "city[1] = \"mumbai\"\n",
        "print(city)\n",
        "\n"
      ],
      "metadata": {
        "colab": {
          "base_uri": "https://localhost:8080/"
        },
        "id": "xOY1mVT3TfCM",
        "outputId": "fb6c970f-765f-48a6-8e0d-9bd501fe5882"
      },
      "execution_count": 9,
      "outputs": [
        {
          "output_type": "stream",
          "name": "stdout",
          "text": [
            "['wardha', 'mumbai', 'pune']\n"
          ]
        }
      ]
    },
    {
      "cell_type": "code",
      "source": [
        "#allows duplicate element\n",
        "numbers = [0, 1, 4, 5, 7,]\n",
        "print(numbers)\n"
      ],
      "metadata": {
        "colab": {
          "base_uri": "https://localhost:8080/"
        },
        "id": "PSWItVkvUlmK",
        "outputId": "b6d04dad-8c1e-44cc-b0f1-822d73490552"
      },
      "execution_count": 11,
      "outputs": [
        {
          "output_type": "stream",
          "name": "stdout",
          "text": [
            "[0, 1, 4, 5, 7]\n"
          ]
        }
      ]
    },
    {
      "cell_type": "code",
      "source": [
        "#dyanmic size\n",
        "numbers = [1, 2, 3]\n",
        "numbers.append(4)\n",
        "print(numbers)\n"
      ],
      "metadata": {
        "colab": {
          "base_uri": "https://localhost:8080/"
        },
        "id": "B7iyIwdlU9MV",
        "outputId": "8079a0ea-ea2f-4a69-daaf-5ba17bd1d63a"
      },
      "execution_count": 12,
      "outputs": [
        {
          "output_type": "stream",
          "name": "stdout",
          "text": [
            "[1, 2, 3, 4]\n"
          ]
        }
      ]
    },
    {
      "cell_type": "markdown",
      "source": [
        "**Que 3 Describe how to access, modify and delete elements in a list with examples.**\n",
        "\n",
        "1. Accessing Elements in a List:\n",
        "You can access individual elements in a list by using their index. List indices start from 0 for the first element.\n",
        "2. Modifying Elements in a List: You can modify an element by assigning a new value to a specific index\n",
        "3. Deleting Elements from a List:You can remove an element at a specific index using the del statement."
      ],
      "metadata": {
        "id": "RtL1x-eCVtOm"
      }
    },
    {
      "cell_type": "code",
      "source": [
        "#accessing elements in a list\n",
        "fruits = [\"apple\", \"banana\", \"cherry\", \"date\"]\n",
        "print(fruits[0])\n",
        "print(fruits[2])\n"
      ],
      "metadata": {
        "colab": {
          "base_uri": "https://localhost:8080/"
        },
        "id": "UAf5pOpBjPxI",
        "outputId": "06f5c471-c711-4dce-9465-d249b12773d0"
      },
      "execution_count": 13,
      "outputs": [
        {
          "output_type": "stream",
          "name": "stdout",
          "text": [
            "apple\n",
            "cherry\n"
          ]
        }
      ]
    },
    {
      "cell_type": "code",
      "source": [
        "#modifyning elements in a list\n",
        "fruits = [\"apple\", \"banana\", \"cherry\"]\n",
        "fruits[1] = \"blueberry\"\n",
        "print(fruits)\n"
      ],
      "metadata": {
        "colab": {
          "base_uri": "https://localhost:8080/"
        },
        "id": "XCFJH3MWjfYO",
        "outputId": "c83e30dd-f2a9-47e8-a6e6-2472a2388212"
      },
      "execution_count": 14,
      "outputs": [
        {
          "output_type": "stream",
          "name": "stdout",
          "text": [
            "['apple', 'blueberry', 'cherry']\n"
          ]
        }
      ]
    },
    {
      "cell_type": "code",
      "source": [
        "#deleting elements from a list\n",
        "fruits = [\"apple\", \"banana\", \"cherry\", \"date\"]\n",
        "del fruits[1]\n",
        "print(fruits)\n"
      ],
      "metadata": {
        "colab": {
          "base_uri": "https://localhost:8080/"
        },
        "id": "nwub_vEllgj5",
        "outputId": "3eb76375-1218-4fa5-f86c-00332a9e965f"
      },
      "execution_count": 15,
      "outputs": [
        {
          "output_type": "stream",
          "name": "stdout",
          "text": [
            "['apple', 'cherry', 'date']\n"
          ]
        }
      ]
    },
    {
      "cell_type": "markdown",
      "source": [
        "**Que 4. Compare and contrast tuples and lists with examples.**\n",
        "\n",
        "Comparing Tuples and Lists\n",
        "\n",
        "Tuples:\n",
        "\n",
        "1.Immutable (cannot be changed after creation).\n",
        "\n",
        "2.Ordered.\n",
        "\n",
        "3. typically used for fixed collections of items.\n",
        "\n",
        "Lists:\n",
        "\n",
        "1.Mutable (can be changed after creation).\n",
        "\n",
        "2.Ordered.\n",
        "\n",
        "3.Used when the collection is likely to change."
      ],
      "metadata": {
        "id": "VdoZFnfHl5NX"
      }
    },
    {
      "cell_type": "code",
      "source": [
        "# List (Mutable)\n",
        "my_list = ['apple', 'banana', 'cherry']\n",
        "my_list.append('date')\n",
        "print(my_list)\n",
        "\n",
        "# Tuple (Immutable)\n",
        "my_tuple = ('apple', 'banana', 'cherry')\n",
        "\n"
      ],
      "metadata": {
        "colab": {
          "base_uri": "https://localhost:8080/"
        },
        "id": "gef-Y2jEnKO8",
        "outputId": "d3159c1d-b737-42d1-e2d8-6c420c75fccf"
      },
      "execution_count": 16,
      "outputs": [
        {
          "output_type": "stream",
          "name": "stdout",
          "text": [
            "['apple', 'banana', 'cherry', 'date']\n"
          ]
        }
      ]
    },
    {
      "cell_type": "markdown",
      "source": [
        "**Que 5.Describe the key features of sets and provide examples of their use.**\n",
        "\n",
        "Key Features of Sets in Python\n",
        "\n",
        "1. Unordered: Elements have no specific order.\n",
        "\n",
        "2. No Duplicates: Sets automatically remove duplicates.\n",
        "\n",
        "3. Mutable: Elements can be added or removed."
      ],
      "metadata": {
        "id": "3xoHZARRn0Ae"
      }
    },
    {
      "cell_type": "code",
      "source": [
        "#unordered\n",
        "my_set = {1, 2, 3, 4}\n",
        "print(my_set)\n"
      ],
      "metadata": {
        "colab": {
          "base_uri": "https://localhost:8080/"
        },
        "id": "Yw-LSPQ6tQRT",
        "outputId": "60664cf6-80ee-4471-8b33-21f8ac6283a2"
      },
      "execution_count": 17,
      "outputs": [
        {
          "output_type": "stream",
          "name": "stdout",
          "text": [
            "{1, 2, 3, 4}\n"
          ]
        }
      ]
    },
    {
      "cell_type": "code",
      "source": [
        "my_set = {1, 2, 2, 3, 4, 4}\n",
        "print(my_set)\n"
      ],
      "metadata": {
        "colab": {
          "base_uri": "https://localhost:8080/"
        },
        "id": "RB6CbWSwtcdI",
        "outputId": "181b99cb-4f9a-4688-c8fd-d465b514e39a"
      },
      "execution_count": 18,
      "outputs": [
        {
          "output_type": "stream",
          "name": "stdout",
          "text": [
            "{1, 2, 3, 4}\n"
          ]
        }
      ]
    },
    {
      "cell_type": "code",
      "source": [
        "#mutable\n",
        "my_set = {1, 2, 3}\n",
        "my_set.add(4)\n",
        "print(my_set)\n"
      ],
      "metadata": {
        "colab": {
          "base_uri": "https://localhost:8080/"
        },
        "id": "vcUd_9Iatw_M",
        "outputId": "a1eeaee4-f1e9-4983-a32e-dade29646b8f"
      },
      "execution_count": 19,
      "outputs": [
        {
          "output_type": "stream",
          "name": "stdout",
          "text": [
            "{1, 2, 3, 4}\n"
          ]
        }
      ]
    },
    {
      "cell_type": "markdown",
      "source": [
        "**QUE 6 .Discuss the use cases of tuples and sets in Python programming**\n",
        "\n",
        "Use Cases of Tuples in Python:\n",
        "\n",
        "1. Immutable Data: Tuples are used when you need a collection of items that should not be changed. For example, coordinates, RGB values, or configuration settings.\n",
        "\n",
        "\n",
        "2. Dictionary Keys: Tuples can be used as keys in dictionaries since they are immutable and hashable.\n",
        "\n",
        "\n",
        "3. Function Arguments: Useful for returning multiple values from a function or passing multiple parameters as a single tuple.\n",
        "\n",
        "4. Efficient Memory Usage: Tuples consume less memory and are faster to create and access than lists, making them ideal for read-only collections.\n",
        "\n",
        "Use Cases of Sets in Python:\n",
        "\n",
        "1. Removing Duplicates: Sets are ideal for removing duplicate items from a list or collection.\n",
        "\n",
        "2. Membership Testing: Fast O(1) time complexity for checking whether an element exists in the set.\n",
        "\n",
        "3. Set Operations: Useful for performing mathematical operations like union, intersection, and difference between two collections.\n",
        "\n"
      ],
      "metadata": {
        "id": "2kcNwwj3t92x"
      }
    },
    {
      "cell_type": "code",
      "source": [
        "#tuples\n",
        "coordinates = (45.0, 93.0)\n",
        "\n"
      ],
      "metadata": {
        "id": "l8XcajwawJSL"
      },
      "execution_count": 21,
      "outputs": []
    },
    {
      "cell_type": "code",
      "source": [
        "#set\n",
        "unique_ids = {101, 102, 103}\n"
      ],
      "metadata": {
        "id": "r9A6Ya_Fwcx_"
      },
      "execution_count": 23,
      "outputs": []
    },
    {
      "cell_type": "markdown",
      "source": [
        "**Que.7 Describe how to add. modify, and delete items in a dictionary with examples**\n",
        "\n",
        "1. Adding Items to a Dictionary:\n",
        "\n",
        "  You can add new key-value pairs to a dictionary by assigning a value to a new key.\n",
        "\n",
        "2. Modifying Items in a Dictionary:\n",
        "\n",
        "  You can modify the value associated with an existing key by reassigning a new value to that key.\n",
        "\n",
        "3. Deleting Items from a Dictionary:\n",
        "\n",
        "  del statement: Deletes a key-value pair from the dictionary."
      ],
      "metadata": {
        "id": "zff0odjgwpQ4"
      }
    },
    {
      "cell_type": "code",
      "source": [
        "# Creating an empty dictionary\n",
        "my_dict = {}\n",
        "\n",
        "# Adding items\n",
        "my_dict['name'] = 'srushti'\n",
        "my_dict['age'] = 22\n",
        "print(my_dict)\n"
      ],
      "metadata": {
        "colab": {
          "base_uri": "https://localhost:8080/"
        },
        "id": "8WAGP8jaxi3l",
        "outputId": "feca493e-fc52-42b1-aeb6-3fb8367970c2"
      },
      "execution_count": 24,
      "outputs": [
        {
          "output_type": "stream",
          "name": "stdout",
          "text": [
            "{'name': 'srushti', 'age': 22}\n"
          ]
        }
      ]
    },
    {
      "cell_type": "code",
      "source": [
        "# modifying items in a dictionary\n",
        "\n",
        "my_dict = {'name': 'srushti', 'age': 22}\n",
        "\n",
        "# Modifying existing items\n",
        "my_dict['age'] = 23\n",
        "print(my_dict)\n"
      ],
      "metadata": {
        "colab": {
          "base_uri": "https://localhost:8080/"
        },
        "id": "OcIqaPKHyZib",
        "outputId": "fd9256e5-a86f-432a-9f6b-22ab61dacb5d"
      },
      "execution_count": 26,
      "outputs": [
        {
          "output_type": "stream",
          "name": "stdout",
          "text": [
            "{'name': 'srushti', 'age': 23}\n"
          ]
        }
      ]
    },
    {
      "cell_type": "code",
      "source": [
        "#Deleting Items from a Dictionary\n",
        "my_dict = {'name': 'srushti', 'age': 22, 'city': 'pune'}\n",
        "\n",
        "# Deleting an item using del\n",
        "del my_dict['city']\n",
        "print(my_dict)\n"
      ],
      "metadata": {
        "colab": {
          "base_uri": "https://localhost:8080/"
        },
        "id": "lB142icEyxZ6",
        "outputId": "a5c97ebd-9982-46ce-db90-b2fb45fb0124"
      },
      "execution_count": 27,
      "outputs": [
        {
          "output_type": "stream",
          "name": "stdout",
          "text": [
            "{'name': 'srushti', 'age': 22}\n"
          ]
        }
      ]
    },
    {
      "cell_type": "markdown",
      "source": [
        " QUE 8**. Discuss the importance of dictionary keys being ummutable and provide examples.**\n",
        "\n",
        "Importance of Dictionary Keys Being Immutable in Python\n",
        "In Python, dictionary keys must be immutable because of how dictionaries are structured internally. Python dictionaries are implemented using a hash table, where keys are hashed to determine where their associated values are stored. For this to work reliably, the key's hash value must remain consistent, which is only possible if the key itself does not change—hence, it must be immutable.\n",
        "\n",
        "\n",
        "1. Hashability:\n",
        "\n",
        "  Dictionary keys are hashed to allow for efficient lookups, insertions, and deletions.\n",
        "Immutable objects like strings, integers, and tuples are hashable, meaning their contents and hash value cannot change once set. Mutable objects like lists and dictionaries are not hashable because their contents can be altered, which would change the hash value and break dictionary operations.\n",
        "\n",
        "2. Consistency:\n",
        "\n",
        "  If dictionary keys were mutable, changing the key after insertion would make it impossible to retrieve the corresponding value because the hash value would change. The dictionary would no longer be able to track the key correctly.\n",
        "\n",
        "3. Efficient Lookups:\n",
        "\n",
        "  The hashing mechanism relies on consistent key values to enable O(1) time complexity for lookups. Using mutable keys would make lookups inefficient and error-prone because the location in the hash table might not match the modified key"
      ],
      "metadata": {
        "id": "58YucxxyzBjl"
      }
    },
    {
      "cell_type": "code",
      "source": [
        "# Valid keys: strings and integers\n",
        "person = {'name': 'srushti', 'age': 22}\n",
        "print(person['name'])\n"
      ],
      "metadata": {
        "colab": {
          "base_uri": "https://localhost:8080/"
        },
        "id": "3k3niyRE6hv7",
        "outputId": "a8770fae-ef2b-41ae-b40b-ad0d72707157"
      },
      "execution_count": 29,
      "outputs": [
        {
          "output_type": "stream",
          "name": "stdout",
          "text": [
            "srushti\n"
          ]
        }
      ]
    }
  ]
}